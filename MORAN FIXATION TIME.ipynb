{
 "cells": [
  {
   "cell_type": "code",
   "execution_count": 4,
   "metadata": {},
   "outputs": [],
   "source": [
    "import numpy as np \n",
    "import random\n",
    "import networkx as nx"
   ]
  },
  {
   "cell_type": "markdown",
   "metadata": {},
   "source": [
    "# In the following cell we can define the network by changing the line G=..., the size of the network represent by n and z is the number of mutant. Function FXT return the time needed for single mutant with fitness r to reproduce through the network and reach to number z. "
   ]
  },
  {
   "cell_type": "code",
   "execution_count": 5,
   "metadata": {},
   "outputs": [],
   "source": [
    "def FXT(n,r,z):\n",
    "    t=0\n",
    "    s=0\n",
    "    G=nx.complete_graph(n)\n",
    "    A=nx.adjacency_matrix(G)\n",
    "    M={random.randint(0,n-1)}\n",
    "    D={j for j in range(0,n)}\n",
    "    R=D-M\n",
    "    while len(M)<z:\n",
    "        i=len(M)\n",
    "        if i==0:\n",
    "            M={random.randint(0,n-1)}\n",
    "            D={j for j in range(0,n)}\n",
    "            R=D-M          \n",
    "        k=random.random()\n",
    "        s+=1\n",
    "        if k<(i*r)/(n-i+i*r):\n",
    "            ch=random.sample(M,1)\n",
    "            NE=[n for n in G.neighbors(ch[0])]\n",
    "            chh=random.sample(NE,1)\n",
    "            if chh[0]  in R:\n",
    "                M.add(chh[0])\n",
    "                R.remove(chh[0])\n",
    "                t+=1\n",
    "\n",
    "        elif (i*r)/(n-i+i*r)<k<(i*(r+1))/(n-i+i*r):\n",
    "            chre=random.sample(R,1)\n",
    "            NEre=[n for n in G.neighbors(chre[0])]\n",
    "            chhre=random.sample(NEre,1)\n",
    "            if chhre[0]  in M:\n",
    "                R.add(chhre[0])\n",
    "                M.remove(chhre[0])\n",
    "                t+=1\n",
    "            \n",
    "    return(t,s)"
   ]
  },
  {
   "cell_type": "markdown",
   "metadata": {},
   "source": [
    "# In the following cell function FXT run for R times and the average returned. The first number is the number of steps when in each step the number of mutants changed. The second number is the number of steps when there is posibility that in one steps number of mutants do not changed."
   ]
  },
  {
   "cell_type": "code",
   "execution_count": 6,
   "metadata": {},
   "outputs": [
    {
     "name": "stdout",
     "output_type": "stream",
     "text": [
      "Coarse grains steps 64.98\n",
      "Non-coarse grains steps 237.78\n"
     ]
    }
   ],
   "source": [
    "tt=0\n",
    "ss=0\n",
    "R=100\n",
    "for j in range (0,rep):\n",
    "    A=FXT(100,3,50)\n",
    "    tt+=A[0]\n",
    "    ss+=A[1]\n",
    "print('Coarse grains steps',tt/R)\n",
    "print('Non-coarse grains steps',ss/R)"
   ]
  },
  {
   "cell_type": "code",
   "execution_count": null,
   "metadata": {},
   "outputs": [],
   "source": []
  }
 ],
 "metadata": {
  "kernelspec": {
   "display_name": "Python 3",
   "language": "python",
   "name": "python3"
  },
  "language_info": {
   "codemirror_mode": {
    "name": "ipython",
    "version": 3
   },
   "file_extension": ".py",
   "mimetype": "text/x-python",
   "name": "python",
   "nbconvert_exporter": "python",
   "pygments_lexer": "ipython3",
   "version": "3.8.5"
  }
 },
 "nbformat": 4,
 "nbformat_minor": 4
}
